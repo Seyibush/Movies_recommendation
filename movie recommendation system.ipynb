{
 "cells": [
  {
   "cell_type": "code",
   "execution_count": 5,
   "id": "87688f2b",
   "metadata": {},
   "outputs": [],
   "source": [
    "import pandas as pd\n",
    "from sklearn.feature_extraction.text import CountVectorizer\n",
    "from sklearn.metrics.pairwise import cosine_similarity\n",
    "import pickle"
   ]
  },
  {
   "cell_type": "code",
   "execution_count": 6,
   "id": "56218fbd",
   "metadata": {},
   "outputs": [],
   "source": [
    "data = pd.read_csv('/Users/sba/Downloads/top10K-TMDB-movies.csv')"
   ]
  },
  {
   "cell_type": "code",
   "execution_count": 7,
   "id": "125050d7",
   "metadata": {},
   "outputs": [
    {
     "name": "stdout",
     "output_type": "stream",
     "text": [
      "<class 'pandas.core.frame.DataFrame'>\n",
      "Int64Index: 9985 entries, 0 to 9999\n",
      "Data columns (total 9 columns):\n",
      " #   Column             Non-Null Count  Dtype  \n",
      "---  ------             --------------  -----  \n",
      " 0   id                 9985 non-null   int64  \n",
      " 1   title              9985 non-null   object \n",
      " 2   genre              9985 non-null   object \n",
      " 3   original_language  9985 non-null   object \n",
      " 4   overview           9985 non-null   object \n",
      " 5   popularity         9985 non-null   float64\n",
      " 6   release_date       9985 non-null   object \n",
      " 7   vote_average       9985 non-null   float64\n",
      " 8   vote_count         9985 non-null   int64  \n",
      "dtypes: float64(2), int64(2), object(5)\n",
      "memory usage: 780.1+ KB\n"
     ]
    }
   ],
   "source": [
    "data = data.dropna()\n",
    "\n",
    "data.info()"
   ]
  },
  {
   "cell_type": "code",
   "execution_count": 8,
   "id": "021e19a5",
   "metadata": {},
   "outputs": [
    {
     "data": {
      "text/plain": [
       "id                   0\n",
       "title                0\n",
       "genre                0\n",
       "original_language    0\n",
       "overview             0\n",
       "popularity           0\n",
       "release_date         0\n",
       "vote_average         0\n",
       "vote_count           0\n",
       "dtype: int64"
      ]
     },
     "execution_count": 8,
     "metadata": {},
     "output_type": "execute_result"
    }
   ],
   "source": [
    "data.isnull().sum()"
   ]
  },
  {
   "cell_type": "code",
   "execution_count": 9,
   "id": "e9f9f51c",
   "metadata": {},
   "outputs": [],
   "source": [
    "data = data[['id', 'title', 'genre', 'overview']]\n",
    "\n",
    "data['tags'] = data['genre'] + ' ' + data['overview']\n",
    "\n",
    "new_data = data.drop(columns=['genre', 'overview'])"
   ]
  },
  {
   "cell_type": "code",
   "execution_count": 10,
   "id": "b20cb27d",
   "metadata": {},
   "outputs": [],
   "source": [
    "vect = CountVectorizer(max_features=1000, stop_words='english')\n",
    "\n",
    "vector = vect.fit_transform(new_data['tags'].values.astype('U')).toarray()"
   ]
  },
  {
   "cell_type": "code",
   "execution_count": 12,
   "id": "2e3dff02",
   "metadata": {},
   "outputs": [],
   "source": [
    "movie_similarity = cosine_similarity(vector)"
   ]
  },
  {
   "cell_type": "code",
   "execution_count": 102,
   "id": "19d1556c",
   "metadata": {},
   "outputs": [
    {
     "data": {
      "text/plain": [
       "9798"
      ]
     },
     "execution_count": 102,
     "metadata": {},
     "output_type": "execute_result"
    }
   ],
   "source": [
    "new_data[new_data['title']=='Fat Albert'].index[0]"
   ]
  },
  {
   "cell_type": "code",
   "execution_count": 103,
   "id": "36ed9559",
   "metadata": {},
   "outputs": [
    {
     "name": "stdout",
     "output_type": "stream",
     "text": [
      "Fat Albert\n",
      "Love Addict\n",
      "Don't Breathe\n",
      "Stigmata\n",
      "Shimmer Lake\n"
     ]
    }
   ],
   "source": [
    "distance = sorted(list(enumerate(movie_similarity[9798])), reverse=True, key= lambda vect_array:vect_array[1])\n",
    "\n",
    "for i in distance[:5]:\n",
    "    print(new_data.iloc[i[0]].title)"
   ]
  },
  {
   "cell_type": "code",
   "execution_count": 15,
   "id": "0d59ba18",
   "metadata": {},
   "outputs": [],
   "source": [
    "def recommend(data):\n",
    "    index = new_data[new_data['title']==data].index[0]\n",
    "    distance = sorted(list(enumerate(movie_similarity[index])), reverse=True, key= lambda x:x[1])\n",
    "\n",
    "    for i in distance[:5]:\n",
    "        print(new_data.iloc[i[0]].title)"
   ]
  },
  {
   "cell_type": "code",
   "execution_count": 17,
   "id": "4f0427f3",
   "metadata": {},
   "outputs": [
    {
     "name": "stdout",
     "output_type": "stream",
     "text": [
      "Headhunters\n",
      "Premium Rush\n",
      "The Stronghold\n",
      "Sin City: A Dame to Kill For\n",
      "Wheelman\n"
     ]
    }
   ],
   "source": [
    "recommend('Headhunters')"
   ]
  },
  {
   "cell_type": "code",
   "execution_count": 13,
   "id": "225c1031",
   "metadata": {},
   "outputs": [],
   "source": [
    "with open ('/Users/sba/Desktop/recommendation_model/movies_recommendation.pkl', 'wb') as f:\n",
    "    pickle.dump(movie_similarity, f)"
   ]
  },
  {
   "cell_type": "code",
   "execution_count": null,
   "id": "83509dd8",
   "metadata": {},
   "outputs": [],
   "source": []
  }
 ],
 "metadata": {
  "kernelspec": {
   "display_name": "Python 3 (ipykernel)",
   "language": "python",
   "name": "python3"
  },
  "language_info": {
   "codemirror_mode": {
    "name": "ipython",
    "version": 3
   },
   "file_extension": ".py",
   "mimetype": "text/x-python",
   "name": "python",
   "nbconvert_exporter": "python",
   "pygments_lexer": "ipython3",
   "version": "3.10.9"
  }
 },
 "nbformat": 4,
 "nbformat_minor": 5
}
